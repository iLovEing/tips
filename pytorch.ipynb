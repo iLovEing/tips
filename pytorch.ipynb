{
 "cells": [
  {
   "cell_type": "markdown",
   "metadata": {
    "pycharm": {
     "name": "#%% md\n"
    }
   },
   "source": [
    "## 1、模型参数打印"
   ]
  },
  {
   "cell_type": "code",
   "execution_count": 1,
   "metadata": {
    "pycharm": {
     "name": "#%%\n"
    }
   },
   "outputs": [],
   "source": [
    "import torch\n",
    "from torch import nn\n",
    "import torch.nn.functional as F"
   ]
  },
  {
   "cell_type": "markdown",
   "metadata": {},
   "source": [
    "### 1.1 创建模型"
   ]
  },
  {
   "cell_type": "code",
   "execution_count": 18,
   "metadata": {
    "pycharm": {
     "name": "#%%\n"
    }
   },
   "outputs": [
    {
     "name": "stdout",
     "output_type": "stream",
     "text": [
      "tensor([[0.4218],\n",
      "        [0.6000]], grad_fn=<AddmmBackward0>)\n",
      "<class 'torch.nn.modules.container.Sequential'>\n",
      "Sequential(\n",
      "  (0): Linear(in_features=4, out_features=8, bias=True)\n",
      "  (1): ReLU()\n",
      "  (2): Linear(in_features=8, out_features=1, bias=True)\n",
      ")\n"
     ]
    }
   ],
   "source": [
    "net = nn.Sequential(\n",
    "    nn.Linear(4, 8),\n",
    "    nn.ReLU(),\n",
    "    nn.Linear(8, 1))\n",
    "\n",
    "X = torch.rand(size=(2, 4))\n",
    "y = net(X)\n",
    "print(y)\n",
    "print(type(net))\n",
    "print(net)"
   ]
  },
  {
   "cell_type": "markdown",
   "metadata": {},
   "source": [
    "### 1.2 state_dict() --OrderedDict"
   ]
  },
  {
   "cell_type": "code",
   "execution_count": 12,
   "metadata": {
    "pycharm": {
     "name": "#%%\n"
    }
   },
   "outputs": [
    {
     "name": "stdout",
     "output_type": "stream",
     "text": [
      "OrderedDict([('0.weight', tensor([[ 0.0935,  0.1801,  0.1187, -0.3249],\n",
      "        [ 0.2076,  0.0274,  0.4316, -0.0249],\n",
      "        [ 0.2735, -0.3846,  0.4774, -0.1125],\n",
      "        [ 0.2064,  0.0798, -0.0143,  0.0393],\n",
      "        [-0.1479, -0.0265, -0.2732,  0.1915],\n",
      "        [-0.4145,  0.0806,  0.0904,  0.3117],\n",
      "        [ 0.4089,  0.1787,  0.2306,  0.2903],\n",
      "        [ 0.0788,  0.1531,  0.0881,  0.3275]])), ('0.bias', tensor([-0.2397,  0.4770,  0.4311,  0.3510, -0.0668, -0.2438,  0.2393, -0.4151])), ('2.weight', tensor([[ 0.3281,  0.0088, -0.2057,  0.0403, -0.3187,  0.2523, -0.2307,  0.3026]])), ('2.bias', tensor([0.0284]))])\n",
      "OrderedDict([('weight', tensor([[ 0.0935,  0.1801,  0.1187, -0.3249],\n",
      "        [ 0.2076,  0.0274,  0.4316, -0.0249],\n",
      "        [ 0.2735, -0.3846,  0.4774, -0.1125],\n",
      "        [ 0.2064,  0.0798, -0.0143,  0.0393],\n",
      "        [-0.1479, -0.0265, -0.2732,  0.1915],\n",
      "        [-0.4145,  0.0806,  0.0904,  0.3117],\n",
      "        [ 0.4089,  0.1787,  0.2306,  0.2903],\n",
      "        [ 0.0788,  0.1531,  0.0881,  0.3275]])), ('bias', tensor([-0.2397,  0.4770,  0.4311,  0.3510, -0.0668, -0.2438,  0.2393, -0.4151]))])\n",
      "Parameter containing:\n",
      "tensor([-0.2397,  0.4770,  0.4311,  0.3510, -0.0668, -0.2438,  0.2393, -0.4151],\n",
      "       requires_grad=True)\n",
      "tensor([-0.2397,  0.4770,  0.4311,  0.3510, -0.0668, -0.2438,  0.2393, -0.4151])\n",
      "tensor([[ 0.0935,  0.1801,  0.1187, -0.3249],\n",
      "        [ 0.2076,  0.0274,  0.4316, -0.0249],\n",
      "        [ 0.2735, -0.3846,  0.4774, -0.1125],\n",
      "        [ 0.2064,  0.0798, -0.0143,  0.0393],\n",
      "        [-0.1479, -0.0265, -0.2732,  0.1915],\n",
      "        [-0.4145,  0.0806,  0.0904,  0.3117],\n",
      "        [ 0.4089,  0.1787,  0.2306,  0.2903],\n",
      "        [ 0.0788,  0.1531,  0.0881,  0.3275]])\n"
     ]
    }
   ],
   "source": [
    "print(net.state_dict())\n",
    "print(net[0].state_dict())\n",
    "print(net[0].bias)\n",
    "print(net[0].bias.data)\n",
    "print(net[0].weight.data)"
   ]
  },
  {
   "cell_type": "markdown",
   "metadata": {
    "pycharm": {
     "name": "#%% md\n"
    }
   },
   "source": [
    "### 1.3 named_parameters()"
   ]
  },
  {
   "cell_type": "code",
   "execution_count": 17,
   "metadata": {
    "pycharm": {
     "name": "#%%\n"
    }
   },
   "outputs": [
    {
     "name": "stdout",
     "output_type": "stream",
     "text": [
      "<class 'generator'>\n",
      "[('0.weight', torch.Size([8, 4])), ('0.bias', torch.Size([8])), ('2.weight', torch.Size([1, 8])), ('2.bias', torch.Size([1]))]\n",
      "[('weight', torch.Size([8, 4])), ('bias', torch.Size([8]))]\n",
      "4\n",
      "[('0.weight', Parameter containing:\n",
      "tensor([[ 0.0935,  0.1801,  0.1187, -0.3249],\n",
      "        [ 0.2076,  0.0274,  0.4316, -0.0249],\n",
      "        [ 0.2735, -0.3846,  0.4774, -0.1125],\n",
      "        [ 0.2064,  0.0798, -0.0143,  0.0393],\n",
      "        [-0.1479, -0.0265, -0.2732,  0.1915],\n",
      "        [-0.4145,  0.0806,  0.0904,  0.3117],\n",
      "        [ 0.4089,  0.1787,  0.2306,  0.2903],\n",
      "        [ 0.0788,  0.1531,  0.0881,  0.3275]], requires_grad=True)), ('0.bias', Parameter containing:\n",
      "tensor([-0.2397,  0.4770,  0.4311,  0.3510, -0.0668, -0.2438,  0.2393, -0.4151],\n",
      "       requires_grad=True)), ('2.weight', Parameter containing:\n",
      "tensor([[ 0.3281,  0.0088, -0.2057,  0.0403, -0.3187,  0.2523, -0.2307,  0.3026]],\n",
      "       requires_grad=True)), ('2.bias', Parameter containing:\n",
      "tensor([0.0284], requires_grad=True))]\n"
     ]
    }
   ],
   "source": [
    "print(type(net[0].named_parameters()))\n",
    "print([(name, param.shape) for name, param in net.named_parameters()])\n",
    "print([(name, param.shape) for name, param in net[0].named_parameters()])\n",
    "\n",
    "params = list(net.named_parameters())\n",
    "print(params.__len__())\n",
    "print([params[i] for i in range(params.__len__())])\n"
   ]
  },
  {
   "cell_type": "markdown",
   "metadata": {},
   "source": [
    "### 1.4 net block()"
   ]
  },
  {
   "cell_type": "code",
   "execution_count": 24,
   "metadata": {
    "pycharm": {
     "name": "#%%\n"
    }
   },
   "outputs": [
    {
     "name": "stdout",
     "output_type": "stream",
     "text": [
      "Sequential(\n",
      "  (0): Sequential(\n",
      "    (block 0): Sequential(\n",
      "      (0): Linear(in_features=4, out_features=8, bias=True)\n",
      "      (1): ReLU()\n",
      "      (2): Linear(in_features=8, out_features=4, bias=True)\n",
      "      (3): ReLU()\n",
      "    )\n",
      "    (block 1): Sequential(\n",
      "      (0): Linear(in_features=4, out_features=8, bias=True)\n",
      "      (1): ReLU()\n",
      "      (2): Linear(in_features=8, out_features=4, bias=True)\n",
      "      (3): ReLU()\n",
      "    )\n",
      "    (block 2): Sequential(\n",
      "      (0): Linear(in_features=4, out_features=8, bias=True)\n",
      "      (1): ReLU()\n",
      "      (2): Linear(in_features=8, out_features=4, bias=True)\n",
      "      (3): ReLU()\n",
      "    )\n",
      "    (block 3): Sequential(\n",
      "      (0): Linear(in_features=4, out_features=8, bias=True)\n",
      "      (1): ReLU()\n",
      "      (2): Linear(in_features=8, out_features=4, bias=True)\n",
      "      (3): ReLU()\n",
      "    )\n",
      "  )\n",
      "  (1): Linear(in_features=4, out_features=1, bias=True)\n",
      ")\n",
      "Parameter containing:\n",
      "tensor([[-0.4340, -0.3095,  0.1278, -0.2557],\n",
      "        [-0.3289, -0.0671, -0.2499, -0.4294],\n",
      "        [ 0.3432, -0.1627, -0.4337,  0.1713],\n",
      "        [ 0.1324,  0.3757,  0.2488,  0.0646],\n",
      "        [-0.4408,  0.4047, -0.1897, -0.1933],\n",
      "        [ 0.3826,  0.1232,  0.1112,  0.4453],\n",
      "        [-0.0654, -0.1512,  0.1330, -0.2267],\n",
      "        [-0.2782, -0.0446,  0.1977, -0.3179]], requires_grad=True)\n"
     ]
    }
   ],
   "source": [
    "def block1():\n",
    "    return nn.Sequential(nn.Linear(4, 8), nn.ReLU(),\n",
    "                         nn.Linear(8, 4), nn.ReLU())\n",
    "\n",
    "def block2():\n",
    "    net = nn.Sequential()\n",
    "    for i in range(4):\n",
    "        # 在这里嵌套\n",
    "        net.add_module(f'block {i}', block1())\n",
    "    return net\n",
    "\n",
    "rgnet = nn.Sequential(block2(), nn.Linear(4, 1))\n",
    "rgnet(X)\n",
    "print(rgnet)\n",
    "print(rgnet[0][1][0].weight)\n",
    "\n"
   ]
  },
  {
   "cell_type": "markdown",
   "metadata": {},
   "source": [
    "## 2、参数初始化"
   ]
  },
  {
   "cell_type": "markdown",
   "metadata": {
    "pycharm": {
     "name": "#%% md\n"
    }
   },
   "source": [
    "### 2.1 整体初始化"
   ]
  },
  {
   "cell_type": "code",
   "execution_count": null,
   "metadata": {
    "pycharm": {
     "name": "#%%\n"
    }
   },
   "outputs": [],
   "source": [
    "def init_normal(m):\n",
    "    if type(m) == nn.Linear:\n",
    "        nn.init.normal_(m.weight, mean=0, std=0.01)\n",
    "        nn.init.zeros_(m.bias)\n",
    "net.apply(init_normal)\n",
    "print(net[0].weight.data[0], net[0].bias.data[0])\n",
    "\n",
    "def init_constant(m):\n",
    "    if type(m) == nn.Linear:\n",
    "        nn.init.constant_(m.weight, 1)\n",
    "        nn.init.zeros_(m.bias)\n",
    "net.apply(init_constant)\n",
    "print(net[0].weight.data[0], net[0].bias.data[0])"
   ]
  },
  {
   "cell_type": "markdown",
   "metadata": {
    "pycharm": {
     "name": "#%% md\n"
    }
   },
   "source": [
    "### 2.2 分块初始化"
   ]
  },
  {
   "cell_type": "code",
   "execution_count": 28,
   "metadata": {
    "pycharm": {
     "name": "#%%\n"
    }
   },
   "outputs": [
    {
     "name": "stdout",
     "output_type": "stream",
     "text": [
      "tensor([-0.1683,  0.0429, -0.1990, -0.0411])\n",
      "tensor([[42., 42., 42., 42., 42., 42., 42., 42.]])\n"
     ]
    }
   ],
   "source": [
    "def init_xavier(m):\n",
    "    if type(m) == nn.Linear:\n",
    "        nn.init.xavier_uniform_(m.weight)\n",
    "def init_42(m):\n",
    "    if type(m) == nn.Linear:\n",
    "        nn.init.constant_(m.weight, 42)\n",
    "\n",
    "net[0].apply(init_xavier)\n",
    "net[2].apply(init_42)\n",
    "print(net[0].weight.data[0])\n",
    "print(net[2].weight.data)"
   ]
  },
  {
   "cell_type": "markdown",
   "metadata": {
    "pycharm": {
     "name": "#%% md\n"
    }
   },
   "source": [
    "### 2.3 自定义初始化"
   ]
  },
  {
   "cell_type": "code",
   "execution_count": null,
   "metadata": {
    "pycharm": {
     "name": "#%%\n"
    }
   },
   "outputs": [],
   "source": [
    "def my_init(m):\n",
    "    if type(m) == nn.Linear:\n",
    "        print(\"Init\", *[(name, param.shape)\n",
    "                        for name, param in m.named_parameters()][0])\n",
    "        nn.init.uniform_(m.weight, -10, 10)\n",
    "        m.weight.data *= (m.weight.data.abs() >= 5)\n",
    "\n",
    "net.apply(my_init)\n",
    "print(net[0].weight[:2])\n",
    "\n",
    "net[0].weight.data[:] += 1\n",
    "net[0].weight.data[0, 0] = 42\n",
    "print(net[0].weight.data[0])\n"
   ]
  },
  {
   "cell_type": "markdown",
   "metadata": {},
   "source": [
    "### 2.4 参数绑定"
   ]
  },
  {
   "cell_type": "code",
   "execution_count": 29,
   "metadata": {
    "pycharm": {
     "name": "#%%\n"
    }
   },
   "outputs": [
    {
     "name": "stdout",
     "output_type": "stream",
     "text": [
      "tensor([True, True, True, True, True, True, True, True])\n",
      "tensor([True, True, True, True, True, True, True, True])\n"
     ]
    }
   ],
   "source": [
    "# 我们需要给共享层一个名称，以便可以引用它的参数\n",
    "shared = nn.Linear(8, 8)\n",
    "net = nn.Sequential(nn.Linear(4, 8), nn.ReLU(),\n",
    "                    shared, nn.ReLU(),\n",
    "                    shared, nn.ReLU(),\n",
    "                    nn.Linear(8, 1))\n",
    "net(X)\n",
    "# 检查参数是否相同\n",
    "print(net[2].weight.data[0] == net[4].weight.data[0])\n",
    "net[2].weight.data[0, 0] = 100\n",
    "# 确保它们实际上是同一个对象，而不只是有相同的值\n",
    "print(net[2].weight.data[0] == net[4].weight.data[0])\n"
   ]
  },
  {
   "cell_type": "markdown",
   "metadata": {},
   "source": [
    "## 3、自定义层"
   ]
  },
  {
   "cell_type": "markdown",
   "metadata": {},
   "source": [
    "## 3.1 无参数自定义层"
   ]
  },
  {
   "cell_type": "code",
   "execution_count": 31,
   "metadata": {
    "pycharm": {
     "name": "#%%\n"
    }
   },
   "outputs": [
    {
     "name": "stdout",
     "output_type": "stream",
     "text": [
      "tensor([-2., -1.,  0.,  1.,  2.])\n"
     ]
    },
    {
     "data": {
      "text/plain": [
       "tensor(2.7940e-09, grad_fn=<MeanBackward0>)"
      ]
     },
     "execution_count": 31,
     "metadata": {},
     "output_type": "execute_result"
    }
   ],
   "source": [
    "class CenteredLayer(nn.Module):\n",
    "    def __init__(self):\n",
    "        super().__init__()\n",
    "\n",
    "    def forward(self, X):\n",
    "        return X - X.mean()\n",
    "\n",
    "layer = CenteredLayer()\n",
    "print(layer(torch.FloatTensor([1, 2, 3, 4, 5])))\n",
    "\n",
    "net = nn.Sequential(nn.Linear(8, 128), CenteredLayer())\n",
    "Y = net(torch.rand(4, 8))\n",
    "print(Y.mean())\n"
   ]
  },
  {
   "cell_type": "markdown",
   "metadata": {},
   "source": [
    "## 3.1 无参数自定义层"
   ]
  },
  {
   "cell_type": "code",
   "execution_count": 34,
   "metadata": {
    "pycharm": {
     "name": "#%%\n"
    }
   },
   "outputs": [
    {
     "name": "stdout",
     "output_type": "stream",
     "text": [
      "Parameter containing:\n",
      "tensor([[ 1.1331e+00,  1.2278e+00,  1.2990e-01],\n",
      "        [ 1.3874e-03,  5.1289e-01,  1.7030e+00],\n",
      "        [-1.0082e+00,  1.8983e-01, -3.0458e-01],\n",
      "        [-1.4345e+00,  8.2401e-01,  3.3082e-01],\n",
      "        [-1.1291e-01,  2.6366e-01, -7.0554e-01]], requires_grad=True)\n",
      "tensor([[0.0000, 0.0000, 2.7243],\n",
      "        [0.0000, 0.2714, 2.4663]])\n",
      "tensor([[0.],\n",
      "        [0.]])\n"
     ]
    }
   ],
   "source": [
    "class MyLinear(nn.Module):\n",
    "    def __init__(self, in_units, units):\n",
    "        super().__init__()\n",
    "        self.weight = nn.Parameter(torch.randn(in_units, units))\n",
    "        self.bias = nn.Parameter(torch.randn(units,))\n",
    "    def forward(self, X):\n",
    "        linear = torch.matmul(X, self.weight.data) + self.bias.data\n",
    "        return F.relu(linear)\n",
    "\n",
    "linear = MyLinear(5, 3)\n",
    "print(linear.weight)\n",
    "print(linear(torch.rand(2, 5)))\n",
    "\n",
    "net = nn.Sequential(MyLinear(64, 8), MyLinear(8, 1))\n",
    "print(net(torch.rand(2, 64)))\n",
    "\n"
   ]
  },
  {
   "cell_type": "markdown",
   "metadata": {},
   "source": [
    "## 4、读写文件"
   ]
  },
  {
   "cell_type": "markdown",
   "metadata": {
    "pycharm": {
     "name": "#%% md\n"
    }
   },
   "source": [
    "### 4.1 保存和加载张量"
   ]
  },
  {
   "cell_type": "code",
   "execution_count": 35,
   "metadata": {
    "pycharm": {
     "name": "#%%\n"
    }
   },
   "outputs": [
    {
     "name": "stdout",
     "output_type": "stream",
     "text": [
      "tensor([0, 1, 2, 3])\n"
     ]
    }
   ],
   "source": [
    "x = torch.arange(4)\n",
    "torch.save(x, 'x-file')\n",
    "x2 = torch.load('x-file')\n",
    "print(x2)\n",
    "\n",
    "y = torch.zeros(4)\n",
    "torch.save([x, y],'x-files')\n",
    "x2, y2 = torch.load('x-files')\n",
    "print((x2, y2))\n",
    "\n",
    "mydict = {'x': x, 'y': y}\n",
    "torch.save(mydict, 'mydict')\n",
    "mydict2 = torch.load('mydict')\n",
    "print(mydict2)\n"
   ]
  },
  {
   "cell_type": "markdown",
   "metadata": {},
   "source": [
    "### 4.2 保存和加载模型参数"
   ]
  },
  {
   "cell_type": "code",
   "execution_count": 36,
   "metadata": {
    "pycharm": {
     "name": "#%%\n"
    }
   },
   "outputs": [
    {
     "data": {
      "text/plain": [
       "tensor([[True, True, True, True, True, True, True, True, True, True],\n",
       "        [True, True, True, True, True, True, True, True, True, True]])"
      ]
     },
     "execution_count": 36,
     "metadata": {},
     "output_type": "execute_result"
    }
   ],
   "source": [
    "class MLP(nn.Module):\n",
    "    def __init__(self):\n",
    "        super().__init__()\n",
    "        self.hidden = nn.Linear(20, 256)\n",
    "        self.output = nn.Linear(256, 10)\n",
    "\n",
    "    def forward(self, x):\n",
    "        return self.output(F.relu(self.hidden(x)))\n",
    "\n",
    "net = MLP()\n",
    "X = torch.randn(size=(2, 20))\n",
    "Y = net(X)\n",
    "torch.save(net.state_dict(), 'mlp.params')\n",
    "\n",
    "clone = MLP()\n",
    "clone.load_state_dict(torch.load('mlp.params'))\n",
    "clone.eval()\n",
    "Y_clone = clone(X)\n",
    "Y_clone == Y"
   ]
  }
 ],
 "metadata": {
  "kernelspec": {
   "display_name": "Python 3 (ipykernel)",
   "language": "python",
   "name": "python3"
  },
  "language_info": {
   "codemirror_mode": {
    "name": "ipython",
    "version": 3
   },
   "file_extension": ".py",
   "mimetype": "text/x-python",
   "name": "python",
   "nbconvert_exporter": "python",
   "pygments_lexer": "ipython3",
   "version": "3.10.6"
  }
 },
 "nbformat": 4,
 "nbformat_minor": 1
}
