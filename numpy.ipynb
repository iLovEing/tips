{
 "cells": [
  {
   "cell_type": "markdown",
   "id": "9964819d",
   "metadata": {},
   "source": [
    "refs: http://c.biancheng.net/numpy/"
   ]
  },
  {
   "cell_type": "code",
   "execution_count": 3,
   "id": "510a1d82",
   "metadata": {},
   "outputs": [],
   "source": [
    "import numpy as np"
   ]
  },
  {
   "cell_type": "markdown",
   "id": "0f04ffe9",
   "metadata": {},
   "source": [
    "### 一、创建数组"
   ]
  },
  {
   "cell_type": "markdown",
   "id": "c52d4f98",
   "metadata": {},
   "source": [
    "#### 1.1 创建数组API\n",
    "* numpy.empty(shape, dtype = float, order = 'C')\n",
    "* numpy.zeros(shape, dtype=float, order=\"C\")\n",
    "* numpy.ones(shape, dtype=None, order='C')\n",
    "* numpy.asarray(sequence, dtype=None, order=None)\n",
    "    * sequence: python列表或元组\n",
    "* numpy.fromiter(iterable, dtype, count=-1)\n",
    "    * iterable: 可迭代对象\n",
    "    * count: 读取的数据数量，默认为 -1，读取所有数据"
   ]
  },
  {
   "cell_type": "code",
   "execution_count": 8,
   "id": "2c3b39a8",
   "metadata": {},
   "outputs": [
    {
     "name": "stdout",
     "output_type": "stream",
     "text": [
      "[0. 1. 2. 3. 4. 5.]\n"
     ]
    }
   ],
   "source": [
    "list=range(6)\n",
    "i=iter(list)\n",
    "#使用i迭代器，通过fromiter方法创建ndarray\n",
    "array=np.fromiter(i, dtype=float)\n",
    "print(array)"
   ]
  },
  {
   "cell_type": "markdown",
   "id": "f28c6264",
   "metadata": {},
   "source": [
    "#### 1.2 创建数组区间API\n",
    "* numpy.arange(start, stop, step, dtype)\n",
    "* np.linspace(start, stop, num=50, endpoint=True, retstep=False, dtype=None) 创建等差数列\n",
    "    * start：代表数值区间的起始值\n",
    "    * stop：代表数值区间的终止值\n",
    "    * num：表示数值区间内要生成多少个均匀的样本。默认值为 50\n",
    "    * endpoint：默认为 True，表示数列包含 stop 终止值，反之不包含\n",
    "    * retstep：默认为 True，表示生成的数组中会显示公差项，反之不显示\n",
    "    * dtype：代表数组元素值的数据类型\n",
    "* np.logspace(start, stop, num=50, endpoint=True, base=10.0, dtype=None) 创建等比数列\n",
    "    * start\t序列的起始值：base start\n",
    "    * stop\t序列的终止值：base stop\n",
    "    * num\t数值范围区间内样本数量，默认为 50\n",
    "    * endpoint\t默认为 True 包含终止值，反之不包含\n",
    "    * base\t对数函数的 log 底数，默认为10\n",
    "    * dtype\t可选参数，指定 ndarray 数组的数据类型"
   ]
  },
  {
   "cell_type": "code",
   "execution_count": 10,
   "id": "b212fddb",
   "metadata": {},
   "outputs": [
    {
     "name": "stdout",
     "output_type": "stream",
     "text": [
      "[ 1.  2.  3.  4.  5.  6.  7.  8.  9. 10.]\n",
      "[ 10.          12.91549665  16.68100537  21.5443469   27.82559402\n",
      "  35.93813664  46.41588834  59.94842503  77.42636827 100.        ]\n"
     ]
    }
   ],
   "source": [
    "a = np.linspace(1,10,10)\n",
    "print(a)\n",
    "\n",
    "a = np.logspace(1, 2, num=10)\n",
    "print (a)"
   ]
  },
  {
   "cell_type": "markdown",
   "id": "c2e9e597",
   "metadata": {},
   "source": [
    "#### 1.2 创建随机数组\n",
    "* np.random.random((1, 2)) 生成0 1 均匀分布的数组\n",
    "* np.random.rand(1, 2) 和random相同，格式稍有区别\n",
    "* np.random.randn(1, 2) 正态分布，输入为维度\n",
    "* randint(low, high=None, size=None, dtype=int) 给定上下范围的随机数"
   ]
  },
  {
   "cell_type": "markdown",
   "id": "1de6ec4f",
   "metadata": {},
   "source": [
    "#### 1.3 定义结构化数据"
   ]
  },
  {
   "cell_type": "code",
   "execution_count": 4,
   "id": "ecf54f32",
   "metadata": {},
   "outputs": [
    {
     "name": "stdout",
     "output_type": "stream",
     "text": [
      "[('name', 'S20'), ('age', 'i1'), ('salary', '<f4')]\n",
      "[(b'ycs', 32, 6357.5) (b'jxe', 28, 6856.8)]\n"
     ]
    }
   ],
   "source": [
    "teacher = np.dtype([('name','S20'), ('age', 'i1'), ('salary', 'f4')])\n",
    "#输出结构化数据teacher\n",
    "print(teacher)\n",
    "#将其应用于ndarray对象\n",
    "b = np.array([('ycs', 32, 6357.50),('jxe', 28, 6856.80)], dtype = teacher) \n",
    "print(b)"
   ]
  },
  {
   "cell_type": "markdown",
   "id": "bfd6e1e3",
   "metadata": {},
   "source": [
    "#### 1.4 数组属性\n",
    "* ndarray.ndim 获取数组维度\n",
    "* ndarray.itemsize 返回数组中每个元素的大小（以字节为单位）\n",
    "* ndarray.flags 返回 ndarray 数组的内存信息"
   ]
  },
  {
   "cell_type": "code",
   "execution_count": 7,
   "id": "ddd87ef0",
   "metadata": {},
   "outputs": [
    {
     "name": "stdout",
     "output_type": "stream",
     "text": [
      "2\n",
      "4\n",
      "  C_CONTIGUOUS : True\n",
      "  F_CONTIGUOUS : False\n",
      "  OWNDATA : True\n",
      "  WRITEABLE : True\n",
      "  ALIGNED : True\n",
      "  WRITEBACKIFCOPY : False\n",
      "\n"
     ]
    }
   ],
   "source": [
    "a = np.array([[1,2,3],[4,5,6]])\n",
    "print(a.ndim)\n",
    "print(a.itemsize)\n",
    "print(a.flags)"
   ]
  },
  {
   "cell_type": "markdown",
   "id": "de93a630",
   "metadata": {},
   "source": [
    "### 二、数组操作"
   ]
  },
  {
   "cell_type": "markdown",
   "id": "275ef852",
   "metadata": {},
   "source": [
    "#### 2.1 索引和切片"
   ]
  },
  {
   "cell_type": "code",
   "execution_count": 26,
   "id": "fc19d44b",
   "metadata": {},
   "outputs": [
    {
     "name": "stdout",
     "output_type": "stream",
     "text": [
      "[2 5 8]\n",
      "[1 4 5]\n",
      "[ 7  8  9 10 11]\n",
      "[1. 2. 3. 4. 5.]\n",
      "[[16 17 18 19]\n",
      " [ 8  9 10 11]\n",
      " [ 4  5  6  7]\n",
      " [28 29 30 31]]\n"
     ]
    }
   ],
   "source": [
    "a = np.arange(10)\n",
    "print(a[2:9:3]) # 可以设置间隔\n",
    "\n",
    "x = np.array([[1,  2],  [3,  4],  [5,  6]])\n",
    "print(x[(0,1,2),(0,1,0)] ) # 索引组合\n",
    "\n",
    "x = np.array([[ 0,  1,  2],[ 3,  4,  5],[ 6,  7,  8],[ 9, 10, 11]])\n",
    "print (x[x > 6]) # 布尔索引\n",
    "\n",
    "a = np.array([np.nan, 1,2,np.nan,3,4,5])\n",
    "print(a[~np.isnan(a)]) # is nan\n",
    "\n",
    "x=np.arange(32).reshape((8,4))\n",
    "print(x[[4,2,1,7]]) # 分别对应 第4行数据、第2行数据、第1行数据、第7行数据项，参考这里，x[2:4]中间是生成列表？"
   ]
  },
  {
   "cell_type": "markdown",
   "id": "2984836a",
   "metadata": {},
   "source": [
    "#### 2.2 遍历数组\n",
    "在内存中，Numpy 数组提供了两种存储数据的方式，分别是 C-order（行优先顺序）与 Fortrant-order（列优先顺序），默认为行优先\n",
    "* np.nditer(): **按内存顺序遍历**"
   ]
  },
  {
   "cell_type": "code",
   "execution_count": 46,
   "id": "e04b42e1",
   "metadata": {},
   "outputs": [
    {
     "name": "stdout",
     "output_type": "stream",
     "text": [
      "[[ 0  5 10 15]\n",
      " [20 25 30 35]\n",
      " [40 45 50 55]]\n",
      "case1:\n",
      "0 5 10 15 20 25 30 35 40 45 50 55 \n",
      "case2:\n",
      "0 5 10 15 20 25 30 35 40 45 50 55 \n",
      "case3:\n",
      "0 20 40 5 25 45 10 30 50 15 35 55 \n",
      "case4:\n",
      "0 20 40 5 25 45 10 30 50 15 35 55 \n",
      "遍历多个数组:\n",
      "[[ 0  5 10 15]\n",
      " [20 25 30 35]\n",
      " [40 45 50 55]]\n",
      "[[ 0  1  2  3]\n",
      " [ 4  5  6  7]\n",
      " [ 8  9 10 11]]\n",
      "0:0, 5:1, 10:2, 15:3, 20:4, 25:5, 30:6, 35:7, 40:8, 45:9, 50:10, 55:11, "
     ]
    }
   ],
   "source": [
    "a = np.arange(0,60,5).reshape(3,4)\n",
    "print(a)\n",
    "print('case1:')\n",
    "for x in np.nditer(a):\n",
    "   print(x, end=' ')\n",
    "print('\\ncase2:')\n",
    "for x in np.nditer(a.T):\n",
    "   print(x, end=' ')\n",
    "print('\\ncase3:')\n",
    "for x in np.nditer(a.T.copy()):\n",
    "    print(x, end=' ')\n",
    "print('\\ncase4:')\n",
    "for x in np.nditer(a, order = 'F'):\n",
    "    print(x, end=' ')\n",
    "print('\\n遍历多个数组:')\n",
    "a = np.arange(0,60,5).reshape(3,4)\n",
    "b = np.arange(12).reshape(3,4)\n",
    "print(a)\n",
    "print(b)\n",
    "for x,y in np.nditer([a,b]):\n",
    "    print(f'{x}:{y},', end=\" \")"
   ]
  },
  {
   "cell_type": "markdown",
   "id": "98f4f1c0",
   "metadata": {},
   "source": [
    "#### 2.3 常用操作\n",
    "##### 2.3.1 迭代\n",
    "* ndarray.flat 遍历迭代器，与上面不同，他是array类的元素\n",
    "* ndarray.flatten 返回一维形式的数组副本\n",
    "* ndarray.ravel 返回一维形式的数组视图\n",
    "\n",
    "##### 2.3.2 换轴\n",
    "* numpy.transpose(arr), ndarray.T 转置\n",
    "* numpy.swapaxes(arr, axis1, axis2) 交换轴\n",
    "* numpy.rollaxis(arr, axis, start) 滚动轴 **慎用**\n",
    "\n",
    "##### 2.3.3 变维\n",
    "* ndarray.reshape 不改变原数组\n",
    "* ndarray.resize 改变原数组\n",
    "* numpy.expand_dims(arr, axis) 在axis处插入新轴\n",
    "* numpy.squeeze() 删除维度为1的轴\n",
    "\n",
    "##### 2.3.4 连接与分割\n",
    "* 连接\n",
    "    * numpy.concatenate((a1, a2, ...), axis) 沿指定轴连接两个或者多个相同形状的数组\n",
    "    * stack     沿着新的轴连接一系列数组\n",
    "    * hstack\t  按水平顺序堆叠序列中数组（列方向）\n",
    "    * vstack\t  按垂直方向堆叠序列中数组（行方向）\n",
    "* 分割\n",
    "    * numpy.split(ary, indices_or_sections, axis) 将一个数组分割为多个子数组\n",
    "        * ary：被分割的数组\n",
    "        * indices_or_sections：若是一个整数，代表用该整数平均切分，若是一个数组，则代表沿轴切分的位置（左开右闭\n",
    "        * axis：默认为0，表示横向切分；为1时表示纵向切分\n",
    "    * stack     沿着新的轴连接一系列数组\n",
    "    * hstack\t  按水平顺序堆叠序列中数组（列方向）\n",
    "    * vstack\t  按垂直方向堆叠序列中数组（行方向）\n",
    " \n",
    "##### 2.3.5 数组增减\n",
    "* numpy.append(arr, values, axis=None)\n",
    "* numpy.insert(arr, obj, values, axis)\n",
    "* numpy.delete(arr, obj, axis)\n",
    "* numpy.unique(arr, return_index, return_inverse, return_counts) \n",
    "    * arr：输入数组，若是多维数组则以一维数组形式展开\n",
    "    * return_index：如果为 True，则返回新数组元素在原数组中的位置（索引）\n",
    "    * return_inverse：如果为 True，则返回原数组元素在新数组中的位置（索引）\n",
    "    * return_counts：如果为 True，则返回去重后的数组元素在原数组中出现的次数"
   ]
  },
  {
   "cell_type": "code",
   "execution_count": 57,
   "id": "18d06dcb",
   "metadata": {},
   "outputs": [
    {
     "name": "stdout",
     "output_type": "stream",
     "text": [
      "[[0 1 2]\n",
      " [3 4 5]]\n",
      "[[0 1]\n",
      " [0 2]\n",
      " [1 0]\n",
      " [1 1]\n",
      " [1 2]]\n"
     ]
    }
   ],
   "source": [
    "x = np.arange(6).reshape(2,3)\n",
    "print(x)\n",
    "#返回所有大于1的元素索引\n",
    "y=np.argwhere(x)\n",
    "print(y)"
   ]
  },
  {
   "cell_type": "markdown",
   "id": "b1a3693b",
   "metadata": {},
   "source": [
    "#### 2.4 统计函数\n",
    "* numpy.amin(axis)， numpy.amax()沿指定轴寻找最值\n",
    "* numpy.argmax()， numpy.argmin() 返回索引\n",
    "* numpy.ptp(axis) 计算极差\n",
    "* numpy.percentile(a, q, axis) 百分位数\n",
    "* numpy.median(axis)中位数\n",
    "* numpy.mean() 平均数\n",
    "* np.average(,weights) 加权平均数\n",
    "* np.var() 方差\n",
    "* np.std() 标准差\n",
    "\n",
    "* numpy.sort(， axis) 排序，返回副本\n",
    "* numpy.argsort(， axis) 排序 返回索引\n",
    "\n",
    "* numpy.nonzero() 非零元素的索引位置\n",
    "* numpy.where() 返回满足元素的索引\n",
    "* numpy.argwhere() 返回非0元索引\n",
    "* numpy.argwhere(ndarray > x) 返回大于x的索引\n",
    "* numpy.extract() 返回值是满足了给定条件的元素值"
   ]
  },
  {
   "cell_type": "markdown",
   "id": "bc89ce00",
   "metadata": {},
   "source": [
    "#### 2.5 矩阵操作\n",
    "* np.eye(m, n) m * n对角元为1的矩阵\n",
    "* numpy.identity(n) n截单位矩阵\n",
    "\n",
    "* numpy.dot() 向量返回内积，矩阵返回矩阵积\n",
    "* numpy.vdot() 向量内积\n",
    "* numpy.matmul() 矩阵积\n",
    "* np.linalg.det() 行列式\n",
    "* numpy.linalg.inv() 逆矩阵\n",
    "* np.linalg.eig() 特征值和特征向量"
   ]
  },
  {
   "cell_type": "code",
   "execution_count": 91,
   "id": "4846172a",
   "metadata": {},
   "outputs": [
    {
     "name": "stdout",
     "output_type": "stream",
     "text": [
      "特征值： [2. 1. 1.]\n",
      "特征向量： [[ 0.          0.40824829  0.40824829]\n",
      " [ 0.          0.81649658  0.81649658]\n",
      " [ 1.         -0.40824829 -0.40824829]]\n"
     ]
    }
   ],
   "source": [
    "mat = np.array([[-1, 1, 0],\n",
    "              [-4, 3, 0],\n",
    "              [1, 0, 2]])\n",
    "\n",
    "eigenvalue, featurevector = np.linalg.eig(mat)\n",
    "\n",
    "print(\"特征值：\", eigenvalue)\n",
    "print(\"特征向量：\", featurevector)"
   ]
  },
  {
   "cell_type": "markdown",
   "id": "bcac1c20",
   "metadata": {},
   "source": [
    "### 三、函数库\n",
    "#### 3.1 位操作\n",
    "* numpy.bitwise_and  &   计算数组元素之间的按位与运算\n",
    "* numpy.bitwise_or\t |\t  计算数组元素之间的按位或运算\n",
    "* numpy.invert\t    ~   计算数组元素之间的按位取反运算\n",
    "* numpy.left_shift\t <<\t  将二进制数的位数向左移\n",
    "* numpy.right_shift\t >>\t  将二进制数的位数向右移\n",
    "\n",
    "#### 3.2 数学运算\n",
    "##### 3.2.1 三角函数\n",
    "**默认为弧度制** \n",
    "* numpy.pi\n",
    "* numpy.sin() cos tan\n",
    "* numpy.arcsin() arcos arctan\n",
    "* numpy.degrees() 转化为角度\n",
    "\n",
    "##### 3.2.2 四舍五入\n",
    "* numpy.around(a,decimals=0) 四舍五入，decimals为小数位数\n",
    "* numpy.floor() 向下取整\n",
    "* numpy.ceil() 向上取整\n",
    "\n",
    "##### 3.2.3 复数操作\n",
    "* numpy.real() 返回复数数组的实部\n",
    "* numpy.imag() 返回复数数组的虚部\n",
    "* numpy.conj() 通过更改虚部的符号，从而返回共轭复数\n",
    "* numpy.angle() 返回复数参数的角度，该函数的提供了一个 deg 参数，如果  deg=True，则返回的值会以角度制来表示，否则以以弧度制来表示"
   ]
  },
  {
   "cell_type": "code",
   "execution_count": 65,
   "id": "2bcd62ae",
   "metadata": {},
   "outputs": [
    {
     "name": "stdout",
     "output_type": "stream",
     "text": [
      "[-0.-5.6j  0.+0.2j 11.+0.j   1.+1.j ]\n",
      "[-0.  0. 11.  1.] [-0.  0. 11.  1.]\n",
      "[-5.6  0.2  0.   1. ] [-5.6  0.2  0.   1. ]\n",
      "[-0.+5.6j  0.-0.2j 11.-0.j   1.-1.j ] <built-in method conj of numpy.ndarray object at 0x0000019307712850>\n",
      "[-1.57079633  1.57079633  0.          0.78539816]\n",
      "[-90.  90.   0.  45.]\n"
     ]
    }
   ],
   "source": [
    "a = np.array([-5.6j, 0.2j, 11. , 1+1j])\n",
    "print(a)\n",
    "print(np.real(a), a.real)\n",
    "print(np.imag(a), a.imag)\n",
    "print(np.conj(a), a.conj)\n",
    "print(np.angle(a))\n",
    "print(np.angle(a, deg = True))"
   ]
  }
 ],
 "metadata": {
  "kernelspec": {
   "display_name": "Python 3 (ipykernel)",
   "language": "python",
   "name": "python3"
  },
  "language_info": {
   "codemirror_mode": {
    "name": "ipython",
    "version": 3
   },
   "file_extension": ".py",
   "mimetype": "text/x-python",
   "name": "python",
   "nbconvert_exporter": "python",
   "pygments_lexer": "ipython3",
   "version": "3.10.6"
  }
 },
 "nbformat": 4,
 "nbformat_minor": 5
}
